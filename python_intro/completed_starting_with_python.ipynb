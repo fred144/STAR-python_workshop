{
 "cells": [
  {
   "cell_type": "markdown",
   "id": "802cead6-a356-492f-a56a-68cb879243c3",
   "metadata": {},
   "source": [
    "# [solutions] getting started with python tutorial\n",
    "\n",
    "\n",
    "- learning programming is similar to learning any language: (1) learning how to read is just as important to learning how to writ and (2)  the best way to get better is to practice \n",
    "\n",
    "\n",
    "- one unique thing about notebooks is there are two types of cells:\n",
    "    1.  markdown \"cells\" like this one (used for writing extensive explanations)\n",
    "    2.  and coding cells like below\n",
    "\n",
    "to get started editing markdown cells, complete below by double clicking on this cell!\n",
    "\n",
    "note, a cell is selected if it has a blue outline around it.\n",
    "\n",
    "\n",
    "Name: Fred \n",
    "\n",
    "Date: 10/09/25\n",
    "\n",
    "\n",
    "\n",
    "\n",
    "\n"
   ]
  },
  {
   "cell_type": "code",
   "execution_count": 2,
   "id": "bf0251ad-5455-4efd-a7d7-3f7381217542",
   "metadata": {},
   "outputs": [],
   "source": [
    "# you can also write comments here in a code cell\n",
    "# but comments here require you to write \"#\" before it\n",
    "# the computer skips over this line and doesn't execute the code"
   ]
  },
  {
   "cell_type": "markdown",
   "id": "99f10526-db72-4ea4-89a8-f10ce152c099",
   "metadata": {},
   "source": [
    "### adding cells, deleting cells, and undoing (un)intended changes\n",
    "\n"
   ]
  },
  {
   "cell_type": "markdown",
   "id": "59287755-d356-42aa-985a-b932f0ef5365",
   "metadata": {},
   "source": [
    "- to undo changes in a cell, go to that cell and press `ctrl+z`\n",
    "- to add or delete cells, there are bottom on the right hand side of these cells\n",
    "- if you make a mistake deleting or adding cells, go to the top navigtaion bar `Edit > Undo Cell Operation`"
   ]
  },
  {
   "cell_type": "markdown",
   "id": "1d653748-83f8-47bd-9787-5d85d9816433",
   "metadata": {},
   "source": [
    "## starting to code\n",
    "\n",
    "- to run a cell, do `ctrl+enter`\n",
    "\n"
   ]
  },
  {
   "cell_type": "markdown",
   "id": "c3585a4e-bef4-467f-895e-6730cb1dee42",
   "metadata": {},
   "source": [
    "### python as a calculator\n",
    "\n",
    "- multiplication `*`\n",
    "- addition `+`\n",
    "- subtraction `-`\n",
    "- power `**`\n",
    "\n",
    "more complicated stuff\n",
    "- floor divide `//` : divides two numbers and returns the largest integer less than or equal to the actual value\n",
    "- modulus `%` : calculates the remainder of a division"
   ]
  },
  {
   "cell_type": "code",
   "execution_count": 3,
   "id": "7ff1b3b5-0b64-4837-a207-878c7c74f09f",
   "metadata": {},
   "outputs": [
    {
     "data": {
      "text/plain": [
       "2000"
      ]
     },
     "execution_count": 3,
     "metadata": {},
     "output_type": "execute_result"
    }
   ],
   "source": [
    "(1 + 1) * 10 * 10**2"
   ]
  },
  {
   "cell_type": "markdown",
   "id": "c8c0c5fd-217c-474b-b9f4-f7f60987e8e3",
   "metadata": {},
   "source": [
    "you can store calculations (or numbers, or anything) by assigning the calculation to a variable,\n",
    "\n",
    "- you can rename that variable anything, so i would advise naming things for what they are\n",
    "- within reasonable length, of course\n",
    "- variables works across different cells\n",
    "- variables, if using the same word can get over-written depending on which cells you ran most recently"
   ]
  },
  {
   "cell_type": "code",
   "execution_count": 4,
   "id": "56d539c5-a1db-4e40-a610-3ddd0f2a5c40",
   "metadata": {},
   "outputs": [],
   "source": [
    "length = 24.5\n",
    "width = 32\n",
    "area = length * width"
   ]
  },
  {
   "cell_type": "markdown",
   "id": "e7a374a5-95fe-4bca-ac38-22120fcad013",
   "metadata": {},
   "source": [
    "so above is an example of variable assignment\n",
    "- we just said that the variable `length` takes the value of 24.5\n",
    "- and  same with the word `width`\n",
    "- we can use these to calculate the `area`\n",
    "\n",
    "we can also verify the answer by printing the variable below"
   ]
  },
  {
   "cell_type": "code",
   "execution_count": 5,
   "id": "595af284-1129-4a1f-9ed2-2e3a3748b391",
   "metadata": {},
   "outputs": [
    {
     "name": "stdout",
     "output_type": "stream",
     "text": [
      "784.0\n"
     ]
    }
   ],
   "source": [
    "print(area)"
   ]
  },
  {
   "cell_type": "markdown",
   "id": "3f489a1e-b174-4372-987c-868f943102e2",
   "metadata": {},
   "source": [
    "__variables are mutable__\n",
    "\n",
    "- you can override these (un)intentionally-- so be careful"
   ]
  },
  {
   "cell_type": "code",
   "execution_count": 6,
   "id": "a9f6a75c-626d-422a-8748-1484e99a7797",
   "metadata": {},
   "outputs": [
    {
     "name": "stdout",
     "output_type": "stream",
     "text": [
      "10\n"
     ]
    }
   ],
   "source": [
    "area = 10\n",
    "print(area)"
   ]
  },
  {
   "cell_type": "code",
   "execution_count": 7,
   "id": "54fb9e60-c5b7-480b-af91-00052cd70e45",
   "metadata": {},
   "outputs": [
    {
     "name": "stdout",
     "output_type": "stream",
     "text": [
      "550000000000.0\n"
     ]
    }
   ],
   "source": [
    "x = 55\n",
    "y = 1e10  # equal to 10**10\n",
    "z = x * y\n",
    "print(z)"
   ]
  },
  {
   "cell_type": "code",
   "execution_count": 8,
   "id": "8d3ba5bf-8ffa-4c98-b544-db6d0006f440",
   "metadata": {},
   "outputs": [
    {
     "name": "stdout",
     "output_type": "stream",
     "text": [
      "550000000000.0 550000000000.0\n"
     ]
    }
   ],
   "source": [
    "area = z\n",
    "print(area, z)"
   ]
  },
  {
   "cell_type": "markdown",
   "id": "099ac759-bc5e-4fcc-8700-ed7a56ceaf2b",
   "metadata": {},
   "source": [
    "__variables are assigned from left to right__\n",
    "\n",
    "___"
   ]
  },
  {
   "cell_type": "markdown",
   "id": "ea65cf93-8698-4f6b-852c-d1d69e1fcd8e",
   "metadata": {},
   "source": [
    "## being organized with code\n",
    "\n",
    "- we can make coding an easier time for us by documenting our code well\n",
    "- one way to do so would be to use comments\n",
    "\n",
    "modifying our code above"
   ]
  },
  {
   "cell_type": "code",
   "execution_count": 9,
   "id": "b2655763-7095-46bb-b1c8-1ea7a00408a9",
   "metadata": {},
   "outputs": [
    {
     "name": "stdout",
     "output_type": "stream",
     "text": [
      "the area of the object is 784.0 square inches.\n",
      "25\n"
     ]
    }
   ],
   "source": [
    "length = 24.5  # inches\n",
    "width = 32  # inches\n",
    "area = length * width\n",
    "print(\"the area of the object is\", area, \"square inches.\")\n",
    "print(\"2\" + \"5\")"
   ]
  },
  {
   "cell_type": "markdown",
   "id": "4405b1d0-7c3b-4dc1-b55d-a1f1d2f2a1a6",
   "metadata": {},
   "source": [
    "above, we just introduced the `string` data type, which is a string of letters\n",
    "\n",
    "you can also assign strings to variables, by surrounding anything with qoutes `\"this is a string\"`\n",
    "\n",
    "note, you can't do arithmetic with string -- it is intended to store phrases\n",
    "\n",
    "- strings are how we specify file paths (which python can read!) : `/some/path/to/some/folder/here.file`\n",
    "\n",
    "#### **[excercise]** let's do some excercises below"
   ]
  },
  {
   "cell_type": "code",
   "execution_count": 10,
   "id": "78a175c7-e218-4f5c-ac61-8fd1d0059799",
   "metadata": {},
   "outputs": [
    {
     "name": "stdout",
     "output_type": "stream",
     "text": [
      "area 6.511104\n",
      "circumference 9.0432\n"
     ]
    }
   ],
   "source": [
    "# calculate the area and circumference of a circle with a radius of 1.44 cm\n",
    "r = 1.44  # cm\n",
    "pi = 3.14\n",
    "area = pi * r**2\n",
    "circ = 2 * r * pi\n",
    "\n",
    "# print your results\n",
    "print(\"area\", area)\n",
    "print(\"circumference\", circ)"
   ]
  },
  {
   "cell_type": "markdown",
   "id": "c566ddc6-fc5b-4d1b-9543-6cba322a0394",
   "metadata": {},
   "source": [
    "____\n",
    "### lists\n",
    " we will introduce `lists`"
   ]
  },
  {
   "cell_type": "code",
   "execution_count": 11,
   "id": "5cbf1449-f5cd-44cc-b272-9ad535691f97",
   "metadata": {},
   "outputs": [],
   "source": [
    "# introduce a list here\n",
    "\n",
    "this_is_a_list = [1, 2, 5, 10, \"a string\", \"another\"]"
   ]
  },
  {
   "cell_type": "markdown",
   "id": "794ebfad-3782-443c-87cb-18d7bffe4b7f",
   "metadata": {},
   "source": [
    "as you can see a list can contain both numbers and strings\n",
    "\n",
    "list is an `object` just a *fancy* variable that you can do additional things with"
   ]
  },
  {
   "cell_type": "code",
   "execution_count": 12,
   "id": "8a0aa43e-223c-4b0b-b8ee-ebee7e6f8119",
   "metadata": {},
   "outputs": [
    {
     "name": "stdout",
     "output_type": "stream",
     "text": [
      "6\n"
     ]
    }
   ],
   "source": [
    "# find its length\n",
    "\n",
    "print(len(this_is_a_list))"
   ]
  },
  {
   "cell_type": "code",
   "execution_count": 13,
   "id": "94c63356-59bd-4788-a3fc-a327a8cdbfe6",
   "metadata": {},
   "outputs": [
    {
     "name": "stdout",
     "output_type": "stream",
     "text": [
      "[1, 2, 5, 10, 'a string', 'another', 'something']\n"
     ]
    }
   ],
   "source": [
    "# add values to it by \"append\"\n",
    "\n",
    "this_is_a_list.append(\"something\")\n",
    "print(this_is_a_list)"
   ]
  },
  {
   "cell_type": "code",
   "execution_count": 14,
   "id": "738dca1f-fa9d-4731-8394-7f08fcf688ce",
   "metadata": {},
   "outputs": [
    {
     "name": "stdout",
     "output_type": "stream",
     "text": [
      "7\n"
     ]
    }
   ],
   "source": [
    "print(len(this_is_a_list))"
   ]
  },
  {
   "cell_type": "code",
   "execution_count": 15,
   "id": "80540749-3c0a-4d59-8682-98a158d47be7",
   "metadata": {},
   "outputs": [],
   "source": [
    "# reverse it\n",
    "\n",
    "this_is_a_list.reverse()"
   ]
  },
  {
   "cell_type": "code",
   "execution_count": 16,
   "id": "536ecd6c-f59e-42bc-ba49-2069fe6378c8",
   "metadata": {},
   "outputs": [
    {
     "name": "stdout",
     "output_type": "stream",
     "text": [
      "['something', 'another', 'a string', 10, 5, 2, 1]\n"
     ]
    }
   ],
   "source": [
    "print(this_is_a_list)"
   ]
  },
  {
   "cell_type": "markdown",
   "id": "f0242beb-a1a7-4c04-8a61-fe8704ecf7ae",
   "metadata": {},
   "source": [
    "### indexing lists\n",
    "\n",
    "suppose you just want to get certain `elements` in a list, to do so you have to know its `index`\n"
   ]
  },
  {
   "cell_type": "code",
   "execution_count": 17,
   "id": "7dead341-4933-4792-8123-43f5df754234",
   "metadata": {},
   "outputs": [
    {
     "data": {
      "text/plain": [
       "2"
      ]
     },
     "execution_count": 17,
     "metadata": {},
     "output_type": "execute_result"
    }
   ],
   "source": [
    "# you can do it by writing the list, and writing [n] after it\n",
    "this_is_a_list[-2]"
   ]
  },
  {
   "cell_type": "code",
   "execution_count": 18,
   "id": "470ff596-b314-42a0-a3e9-efb36d444cce",
   "metadata": {},
   "outputs": [
    {
     "data": {
      "text/plain": [
       "'something'"
      ]
     },
     "execution_count": 18,
     "metadata": {},
     "output_type": "execute_result"
    }
   ],
   "source": [
    "# n starts from 0, so the first element of your list has \"index 0\"\n",
    "\n",
    "this_is_a_list[0]"
   ]
  },
  {
   "cell_type": "code",
   "execution_count": 19,
   "id": "a7b4cfae-e5b0-4184-8852-bdcea20e7142",
   "metadata": {},
   "outputs": [
    {
     "data": {
      "text/plain": [
       "['something', 'another', 'a string', 10, 5, 2, 1]"
      ]
     },
     "execution_count": 19,
     "metadata": {},
     "output_type": "execute_result"
    }
   ],
   "source": [
    "# suppose you want to access parts of a list [start index: end index: step size]\n",
    "\n",
    "# list [start position: end_position: step]\n",
    "\n",
    "this_is_a_list[0::1]  # also same as this_is_a_list[0:2:]"
   ]
  },
  {
   "cell_type": "code",
   "execution_count": 20,
   "id": "1e34759a-fda8-4917-91fa-21a99ee011a8",
   "metadata": {},
   "outputs": [
    {
     "data": {
      "text/plain": [
       "['something']"
      ]
     },
     "execution_count": 20,
     "metadata": {},
     "output_type": "execute_result"
    }
   ],
   "source": [
    "this_is_a_list[::10]"
   ]
  },
  {
   "cell_type": "markdown",
   "id": "1ec58a0f-a0e5-490c-991d-a079adefff05",
   "metadata": {},
   "source": [
    "___\n",
    "## starting to work with loops\n",
    "\n",
    "here we'll introduce the idea of loops, which can be useful if, per say we want to compute the area of many circles\n",
    "\n"
   ]
  },
  {
   "cell_type": "code",
   "execution_count": 21,
   "id": "0fc21d04-d07c-4b39-a415-9f7675a5dc87",
   "metadata": {},
   "outputs": [
    {
     "name": "stdout",
     "output_type": "stream",
     "text": [
      "the value of i is now 0\n",
      "the value of i is now 1\n",
      "the value of i is now 2\n",
      "the value of i is now 3\n",
      "the value of i is now 4\n",
      "the value of i is now 5\n",
      "the value of i is now 6\n",
      "the value of i is now 7\n",
      "the value of i is now 8\n",
      "the value of i is now 9\n"
     ]
    }
   ],
   "source": [
    "# here is a basic loop\n",
    "\n",
    "num_loops = 10\n",
    "\n",
    "for i in range(num_loops):\n",
    "    # in each iteration of the loop, i will change\n",
    "    print(\"the value of i is now\", i)"
   ]
  },
  {
   "cell_type": "markdown",
   "id": "366678ef-ec53-4444-b6f1-21f8742ec7eb",
   "metadata": {},
   "source": [
    "so the basic structure of a loop is\n",
    "```\n",
    "loop controll: \n",
    "    what to do in each pass of the loop\n",
    "```\n",
    "note, the indent is very important-- it's one of the key defining characteristic of python: it cares about spaces \n",
    "\n",
    "let's look at how important it is below"
   ]
  },
  {
   "cell_type": "code",
   "execution_count": 22,
   "id": "ed9cd1c2-4c63-4ae0-94cd-0e2a23a80c3c",
   "metadata": {},
   "outputs": [
    {
     "name": "stdout",
     "output_type": "stream",
     "text": [
      "the value of i is now 0\n",
      "the value of i is now 1\n",
      "the value of i is now 2\n",
      "the value of i is now 3\n",
      "the value of i is now 4\n"
     ]
    }
   ],
   "source": [
    "num_loops = 5\n",
    "for i in range(num_loops):\n",
    "    print(\"the value of i is now\", i)"
   ]
  },
  {
   "cell_type": "markdown",
   "id": "fd8f978c-aee6-4416-9e0f-b32c0fac2730",
   "metadata": {},
   "source": [
    "#### debugging: __above is what an error looks like in python__\n",
    "\n",
    "- you will encounter a lot of bugs\n",
    "- errors will thankfully give you a clue as to where/what it is -- importance of line numbers\n",
    "- there are many kinds of errors\n",
    "- you can solve them through experience -- making mistakes is an important part of coding\n"
   ]
  },
  {
   "cell_type": "markdown",
   "id": "8626bea6-e903-4448-a8b5-e5824759a519",
   "metadata": {},
   "source": [
    "____ \n",
    "# conditionals \n",
    "\n",
    "conditionals such as \n",
    "\n",
    "- `if`\n",
    "- `else`\n",
    "- `elif`\n",
    "\n",
    "helps us handle logic of the our programs, and so do comparators\n",
    "- `>` greater than\n",
    "- `<`  less than\n",
    "- `==` equal to\n",
    "- `>=` greater than or equal to\n",
    "- `<=` less than or equal to\n",
    "- `!=` does not equal to\n",
    "\n"
   ]
  },
  {
   "cell_type": "code",
   "execution_count": 23,
   "id": "3c2227e6-0c6d-43b9-93c4-8dfbf77c3170",
   "metadata": {},
   "outputs": [
    {
     "data": {
      "text/plain": [
       "True"
      ]
     },
     "execution_count": 23,
     "metadata": {},
     "output_type": "execute_result"
    }
   ],
   "source": [
    "10 > 5"
   ]
  },
  {
   "cell_type": "code",
   "execution_count": 24,
   "id": "96cb1c59-e100-42f9-b3cf-4fbb6988faaa",
   "metadata": {},
   "outputs": [
    {
     "data": {
      "text/plain": [
       "True"
      ]
     },
     "execution_count": 24,
     "metadata": {},
     "output_type": "execute_result"
    }
   ],
   "source": [
    "10 != 1"
   ]
  },
  {
   "cell_type": "code",
   "execution_count": 25,
   "id": "32aa056c-a289-48e3-8ad9-c030777df42c",
   "metadata": {},
   "outputs": [
    {
     "data": {
      "text/plain": [
       "False"
      ]
     },
     "execution_count": 25,
     "metadata": {},
     "output_type": "execute_result"
    }
   ],
   "source": [
    "100 < 10"
   ]
  },
  {
   "cell_type": "markdown",
   "id": "c631c844-3d03-4221-abfc-a4f0e132c34e",
   "metadata": {},
   "source": [
    "\n",
    "going back to the the basic loop, suppose we increase the range to `100`, so we loop over all number 0-99\n",
    "\n",
    "we then want to save differnt numbers to different; for example,\n",
    "- all numbers that are even are put in a list\n",
    "- all the numbers that are odd are in another\n",
    "- all the numbers greater than 50 are in a list "
   ]
  },
  {
   "cell_type": "code",
   "execution_count": 26,
   "id": "23232b5b-d2e9-4260-b76e-de654249f54c",
   "metadata": {},
   "outputs": [],
   "source": [
    "num_loops = 100\n",
    "\n",
    "all_even = []  # yes, you can define an empty list like this!\n",
    "all_odd = []\n",
    "gtr_50 = []\n",
    "\n",
    "for i in range(num_loops):  # loop through i 0 - 99\n",
    "\n",
    "    if (i % 2) == 0:  # if this is true\n",
    "        all_even.append(i)  # do this\n",
    "    else:  # if it is not true\n",
    "        all_odd.append(i)  # do this instead\n",
    "\n",
    "    # i is still the same, do another comparison\n",
    "    if i > 50:\n",
    "        gtr_50.append(i)  # true"
   ]
  },
  {
   "cell_type": "markdown",
   "id": "feb9903b-17f5-4ad6-a57c-a182ed46d4bf",
   "metadata": {},
   "source": [
    "recall, the indentation matters, anything under the conditional has to be indented.\n",
    "\n",
    "\n",
    "\n",
    "\n",
    "verify it works by printing the lists"
   ]
  },
  {
   "cell_type": "code",
   "execution_count": 27,
   "id": "a1933b4b-68c8-4d81-9530-c45da3a9da86",
   "metadata": {},
   "outputs": [
    {
     "name": "stdout",
     "output_type": "stream",
     "text": [
      "[0, 2, 4, 6, 8, 10, 12, 14, 16, 18, 20, 22, 24, 26, 28, 30, 32, 34, 36, 38, 40, 42, 44, 46, 48, 50, 52, 54, 56, 58, 60, 62, 64, 66, 68, 70, 72, 74, 76, 78, 80, 82, 84, 86, 88, 90, 92, 94, 96, 98]\n",
      "[1, 3, 5, 7, 9, 11, 13, 15, 17, 19, 21, 23, 25, 27, 29, 31, 33, 35, 37, 39, 41, 43, 45, 47, 49, 51, 53, 55, 57, 59, 61, 63, 65, 67, 69, 71, 73, 75, 77, 79, 81, 83, 85, 87, 89, 91, 93, 95, 97, 99]\n",
      "[51, 52, 53, 54, 55, 56, 57, 58, 59, 60, 61, 62, 63, 64, 65, 66, 67, 68, 69, 70, 71, 72, 73, 74, 75, 76, 77, 78, 79, 80, 81, 82, 83, 84, 85, 86, 87, 88, 89, 90, 91, 92, 93, 94, 95, 96, 97, 98, 99]\n"
     ]
    }
   ],
   "source": [
    "print(all_even)\n",
    "print(all_odd)\n",
    "print(gtr_50)"
   ]
  },
  {
   "cell_type": "markdown",
   "id": "555e9df2-8208-45a0-86a4-7b831c337ed2",
   "metadata": {},
   "source": [
    "### looping through a list"
   ]
  },
  {
   "cell_type": "code",
   "execution_count": null,
   "id": "aa06bf94-acd8-4687-a956-b11c742015e0",
   "metadata": {},
   "outputs": [
    {
     "name": "stdout",
     "output_type": "stream",
     "text": [
      "something\n",
      "another\n",
      "a string\n",
      "10\n",
      "5\n",
      "2\n",
      "1\n"
     ]
    }
   ],
   "source": [
    "# we can traverse through a list using a loop\n",
    "\n",
    "# one way, by knowing the length of the list and indexing\n",
    "\n",
    "for i in range(len(this_is_a_list)):\n",
    "    print(this_is_a_list[i])"
   ]
  },
  {
   "cell_type": "code",
   "execution_count": null,
   "id": "0bb22ccd",
   "metadata": {},
   "outputs": [
    {
     "name": "stdout",
     "output_type": "stream",
     "text": [
      "something\n",
      "another\n",
      "a string\n",
      "10\n",
      "5\n",
      "2\n",
      "1\n"
     ]
    }
   ],
   "source": [
    "# another way, just going over the full length of the list\n",
    "\n",
    "for item in this_is_a_list:\n",
    "    print(item)"
   ]
  },
  {
   "cell_type": "markdown",
   "id": "217f9331-c3a4-44ac-8504-066b6e3463b1",
   "metadata": {},
   "source": [
    "#### **[excercise]** calculate the areas of the circle given the radius\n",
    "\n",
    "compute area by looping over the radii and then appending the result to the `areas` list\n",
    "\n",
    "- then print the list"
   ]
  },
  {
   "cell_type": "code",
   "execution_count": 48,
   "id": "ead541ce-ec69-44ba-abd6-b5c2e5ae32d4",
   "metadata": {},
   "outputs": [],
   "source": [
    "radii = [1, 1, 2, 3, 4, 5]  # cm\n",
    "areas = []\n",
    "\n",
    "for r in radii:\n",
    "    areas.append(3.14 * r**2)"
   ]
  },
  {
   "cell_type": "code",
   "execution_count": 49,
   "id": "9f595ec3-2481-42ad-8a27-a736a50afe32",
   "metadata": {},
   "outputs": [
    {
     "data": {
      "text/plain": [
       "[3.14, 3.14, 12.56, 28.26, 50.24, 78.5]"
      ]
     },
     "execution_count": 49,
     "metadata": {},
     "output_type": "execute_result"
    }
   ],
   "source": [
    "areas"
   ]
  },
  {
   "cell_type": "markdown",
   "id": "255e37c7-fee7-432a-94d7-1c48ec2cf7b1",
   "metadata": {},
   "source": [
    "___\n",
    "# packages simplify our lives\n",
    "\n",
    "- these are pre-written code written by the community that can help with calculations\n",
    "- one example is [numpy](https://numpy.org/doc/stable/index.html)\n",
    "\n",
    "the basic structure of using a package is to first import it by the format\n",
    "\n",
    "`import package_name as acronym`\n"
   ]
  },
  {
   "cell_type": "code",
   "execution_count": 50,
   "id": "7420ea18-0a51-4eb2-8610-a7cbdee1d755",
   "metadata": {},
   "outputs": [],
   "source": [
    "import numpy as np  # this says that I want to access pre-written code in the numpy package simply by writting np"
   ]
  },
  {
   "cell_type": "markdown",
   "id": "d59cbdf1-6b85-44a4-a528-8ffecc279f99",
   "metadata": {},
   "source": [
    "## numpy arrays\n",
    "\n",
    "are `fancy` lists that we can do math with.\n",
    "\n",
    "to turn any list into a numpy list, just do"
   ]
  },
  {
   "cell_type": "code",
   "execution_count": 53,
   "id": "b0900a96-b784-48e5-8362-48fe84186c9d",
   "metadata": {},
   "outputs": [],
   "source": [
    "radii_numpy_list = np.array(radii)"
   ]
  },
  {
   "cell_type": "code",
   "execution_count": 51,
   "id": "eed6f980-180c-4b9d-a62f-c5b835e32d39",
   "metadata": {},
   "outputs": [
    {
     "name": "stdout",
     "output_type": "stream",
     "text": [
      "[1 1 2 3 4 5]\n"
     ]
    }
   ],
   "source": [
    "print(radii_numpy_list)"
   ]
  },
  {
   "cell_type": "markdown",
   "id": "5a1883a9-b12e-4f6c-bf3d-e047756e8182",
   "metadata": {},
   "source": [
    "nothing really change-- except now we can do this!"
   ]
  },
  {
   "cell_type": "code",
   "execution_count": 52,
   "id": "1013d6a1-ae1f-45e4-8668-ca9849616102",
   "metadata": {},
   "outputs": [
    {
     "name": "stdout",
     "output_type": "stream",
     "text": [
      "[ 3.14  3.14 12.56 28.26 50.24 78.5 ]\n"
     ]
    }
   ],
   "source": [
    "np_areas = 3.14 * radii_numpy_list**2\n",
    "print(np_areas)"
   ]
  },
  {
   "cell_type": "markdown",
   "id": "ff8d97f6-756b-4f24-8ccc-61d29e05b5b2",
   "metadata": {},
   "source": [
    "__we were able to do what we did with the loop in one line 😯__\n",
    "\n",
    "- numpy arrays (also called vectors) can be multi-dimensional (2D: matrix if you've covered this in algebra)\n",
    "- you can do lots of things with numpy arrays"
   ]
  },
  {
   "cell_type": "code",
   "execution_count": null,
   "id": "7511ac90-64b1-4d57-a6c0-685f689603a5",
   "metadata": {},
   "outputs": [
    {
     "data": {
      "text/plain": [
       "np.float64(175.84)"
      ]
     },
     "execution_count": 54,
     "metadata": {},
     "output_type": "execute_result"
    }
   ],
   "source": [
    "# like add all of them up\n",
    "np.sum(np_areas)"
   ]
  },
  {
   "cell_type": "code",
   "execution_count": 55,
   "id": "eacb4cd7-631f-45bd-9c00-d99a34a82672",
   "metadata": {},
   "outputs": [
    {
     "data": {
      "text/plain": [
       "np.float64(78.5)"
      ]
     },
     "execution_count": 55,
     "metadata": {},
     "output_type": "execute_result"
    }
   ],
   "source": [
    "# find the maximum value\n",
    "np.max(np_areas)"
   ]
  },
  {
   "cell_type": "code",
   "execution_count": 56,
   "id": "88c7b768-bc99-4144-a778-b59bf414bede",
   "metadata": {},
   "outputs": [
    {
     "data": {
      "text/plain": [
       "np.float64(3.14)"
      ]
     },
     "execution_count": 56,
     "metadata": {},
     "output_type": "execute_result"
    }
   ],
   "source": [
    "# yes, the minimum too\n",
    "np.min(np_areas)"
   ]
  },
  {
   "cell_type": "code",
   "execution_count": 57,
   "id": "a531e6e0-148f-4053-b833-01f9a0cee8a2",
   "metadata": {},
   "outputs": [
    {
     "data": {
      "text/plain": [
       "array([ 3.14, 12.56, 28.26, 50.24, 78.5 ])"
      ]
     },
     "execution_count": 57,
     "metadata": {},
     "output_type": "execute_result"
    }
   ],
   "source": [
    "# find just the unique entries\n",
    "np.unique(np_areas)"
   ]
  },
  {
   "cell_type": "code",
   "execution_count": 58,
   "id": "a613abd5-f6f3-41ae-92ad-e1c4482e9798",
   "metadata": {},
   "outputs": [
    {
     "data": {
      "text/plain": [
       "6"
      ]
     },
     "execution_count": 58,
     "metadata": {},
     "output_type": "execute_result"
    }
   ],
   "source": [
    "# and all the list stuff like find the length\n",
    "len(np_areas)"
   ]
  },
  {
   "cell_type": "code",
   "execution_count": 59,
   "id": "2c7f638b-2ba7-410d-89d0-4ca6f42536c8",
   "metadata": {},
   "outputs": [
    {
     "name": "stdout",
     "output_type": "stream",
     "text": [
      "3.14\n",
      "3.14\n",
      "12.56\n",
      "28.26\n",
      "50.24\n",
      "78.5\n"
     ]
    }
   ],
   "source": [
    "# you can also loop through\n",
    "for area in np_areas:\n",
    "    print(area)"
   ]
  },
  {
   "cell_type": "markdown",
   "id": "608f6198-6822-46ba-806f-1abe98af283f",
   "metadata": {},
   "source": [
    "and many, many more... thankfully it is well documented so google away!"
   ]
  },
  {
   "cell_type": "markdown",
   "id": "13e9c085-5869-4e48-b4f5-fb73b639062f",
   "metadata": {},
   "source": [
    "# functions \n",
    "\n",
    "A function is like a mini-program you can reuse. You define it once, and then call it whenever you need it."
   ]
  },
  {
   "cell_type": "code",
   "execution_count": 60,
   "id": "3c1f3563-6812-4317-8341-c69f16f67b42",
   "metadata": {},
   "outputs": [],
   "source": [
    "# Define a function using 'def'\n",
    "def greet(name):\n",
    "    print(\"Hello,\", name, \"!\")"
   ]
  },
  {
   "cell_type": "markdown",
   "id": "e02e4c44-26b6-4cae-bb49-52dd5acf8c1c",
   "metadata": {},
   "source": [
    "### call (or run) the function with your name!\n",
    "for example, `greet(\"Alex\")`\n",
    "\n",
    "try it for your name below\n"
   ]
  },
  {
   "cell_type": "code",
   "execution_count": 61,
   "id": "abbe7f96-8c81-4f03-be23-e4c5d9b0ee13",
   "metadata": {},
   "outputs": [
    {
     "name": "stdout",
     "output_type": "stream",
     "text": [
      "Hello, Fred !\n"
     ]
    }
   ],
   "source": [
    "greet(\"Fred\")"
   ]
  },
  {
   "cell_type": "markdown",
   "id": "e1e6c889-22c9-4649-b09e-878cc1a67596",
   "metadata": {},
   "source": [
    "🧠 What’s happening:\n",
    "\n",
    "- `def` starts a function definition.\n",
    "- name is a parameter — a variable that gets its value when you call the function.\n",
    "- print(\"Hello,\", name, \"!\") runs every time the function is called."
   ]
  },
  {
   "cell_type": "code",
   "execution_count": 43,
   "id": "ea810c35-4489-4255-9680-692c350b80dc",
   "metadata": {},
   "outputs": [],
   "source": [
    "def square(num):\n",
    "    result = num**2\n",
    "    return result\n",
    "\n",
    "\n",
    "# store the result in a variable\n",
    "x = square(5)"
   ]
  },
  {
   "cell_type": "code",
   "execution_count": 63,
   "id": "b7b059f4-844c-4a55-9345-9ab5986b17ef",
   "metadata": {},
   "outputs": [
    {
     "name": "stdout",
     "output_type": "stream",
     "text": [
      "25\n"
     ]
    }
   ],
   "source": [
    "# print out the result\n",
    "print(x)"
   ]
  },
  {
   "cell_type": "markdown",
   "id": "525f0df2-4bdd-4b95-855c-89d6a77607c4",
   "metadata": {},
   "source": [
    "## **[group excercise]** \n",
    "\n",
    "1. write a function fahrenheit_to_celsius(f) that converts Fahrenheit to Celsius using\n",
    "$$\n",
    "F = (C \\times 1.8) + 32\n",
    "$$\n",
    "\n",
    "2. using the monthly average temperature for NYC (in fahrenheit), translate these to Celsius after defining these in a list or a numpy array (Jan - Dec)\n",
    "![Launching Jupyter from Anaconda Navigator](./tutorial_imgs/avg_nyc_temps_monthly.png)\n",
    "\n",
    "3. write a separate function/program that would have the user enter a temperature in fahrenheit and, depending on the temperature, print somethign like\n",
    "\n",
    "- temperature < 32, say \"🥶 It's freezing! Wear a heavy coat, hat, and gloves.\"\n",
    "- temperature is between 32 and 50, \"🧥 It's cold — a warm coat is a good idea.\"\n",
    "- greater than 50 and less than 65,  \"🧢 Cool weather — a light jacket should be fine.\"\n",
    "- greater than 65 but less than 85: \"👕 Mild day — long sleeves or a t-shirt work.\"\n",
    "- greater than 85, \"☀️ Hot! Shorts and light clothing recommend\"\n",
    "\n",
    "\n",
    "4. loop through the temperatures and use the function in the previous step to see the results for what typical clothing would be appropriate for each month\n"
   ]
  },
  {
   "cell_type": "code",
   "execution_count": 71,
   "id": "5961465b-6b79-4e16-8d2a-87217c1c0575",
   "metadata": {},
   "outputs": [
    {
     "name": "stdout",
     "output_type": "stream",
     "text": [
      "Jan: 33.7 F is 0.9 C\n",
      "Feb: 35.9 F is 2.2 C\n",
      "Mar: 42.8 F is 6.0 C\n",
      "Apr: 53.7 F is 12.1 C\n",
      "May: 63.2 F is 17.3 C\n",
      "Jun: 72.0 F is 22.2 C\n",
      "Jul: 77.5 F is 25.3 C\n",
      "Aug: 76.1 F is 24.5 C\n",
      "Sep: 69.2 F is 20.7 C\n",
      "Oct: 57.9 F is 14.4 C\n",
      "Nov: 48.0 F is 8.9 C\n",
      "Dec: 39.1 F is 3.9 C\n"
     ]
    }
   ],
   "source": [
    "def fahrenheit_to_celsius(f_temp):\n",
    "    c_temp = (f_temp - 32) * 5.0 / 9.0\n",
    "    return c_temp\n",
    "\n",
    "\n",
    "months = [\n",
    "    \"Jan\",\n",
    "    \"Feb\",\n",
    "    \"Mar\",\n",
    "    \"Apr\",\n",
    "    \"May\",\n",
    "    \"Jun\",\n",
    "    \"Jul\",\n",
    "    \"Aug\",\n",
    "    \"Sep\",\n",
    "    \"Oct\",\n",
    "    \"Nov\",\n",
    "    \"Dec\",\n",
    "]\n",
    "monthly_nyc_avg = [\n",
    "    33.7,\n",
    "    35.9,\n",
    "    42.8,\n",
    "    53.7,\n",
    "    63.2,\n",
    "    72.0,\n",
    "    77.5,\n",
    "    76.1,\n",
    "    69.2,\n",
    "    57.9,\n",
    "    48.0,\n",
    "    39.1,\n",
    "]  #\n",
    "\n",
    "\n",
    "for i, m in enumerate(months):  # i is the index, m is the month\n",
    "    f_temp = monthly_nyc_avg[i]  # we can traverse both lists this way too\n",
    "    c_temp = fahrenheit_to_celsius(f_temp)\n",
    "    print(f\"{m}: {f_temp} F is {c_temp:.1f} C\")"
   ]
  },
  {
   "cell_type": "code",
   "execution_count": 72,
   "id": "b3b6235f",
   "metadata": {},
   "outputs": [
    {
     "name": "stdout",
     "output_type": "stream",
     "text": [
      "Jan\n",
      "🧥 It's cold — a warm coat is a good idea.\n",
      "Feb\n",
      "🧥 It's cold — a warm coat is a good idea.\n",
      "Mar\n",
      "🧥 It's cold — a warm coat is a good idea.\n",
      "Apr\n",
      "🧢 Cool weather — a light jacket should be fine.\n",
      "May\n",
      "🧢 Cool weather — a light jacket should be fine.\n",
      "Jun\n",
      "👕 Mild day — long sleeves or a t-shirt work.\n",
      "Jul\n",
      "👕 Mild day — long sleeves or a t-shirt work.\n",
      "Aug\n",
      "👕 Mild day — long sleeves or a t-shirt work.\n",
      "Sep\n",
      "👕 Mild day — long sleeves or a t-shirt work.\n",
      "Oct\n",
      "🧢 Cool weather — a light jacket should be fine.\n",
      "Nov\n",
      "🧥 It's cold — a warm coat is a good idea.\n",
      "Dec\n",
      "🧥 It's cold — a warm coat is a good idea.\n"
     ]
    }
   ],
   "source": [
    "def clothing_advice(f_temp):\n",
    "    if f_temp < 32:\n",
    "        print(\"🥶 It's freezing! Wear a heavy coat, hat, and gloves.\")\n",
    "    elif 32 <= f_temp < 50:\n",
    "        print(\"🧥 It's cold — a warm coat is a good idea.\")\n",
    "    elif 50 <= f_temp < 65:\n",
    "        print(\"🧢 Cool weather — a light jacket should be fine.\")\n",
    "    elif 65 <= f_temp < 85:\n",
    "        print(\"👕 Mild day — long sleeves or a t-shirt work.\")\n",
    "    else:\n",
    "        print(\"☀️ Hot! Shorts and light clothing recommend\")\n",
    "\n",
    "\n",
    "for i, m in enumerate(months):  # here i is the index, m is the month name\n",
    "    print(m)\n",
    "    advice = clothing_advice(monthly_nyc_avg[i])"
   ]
  },
  {
   "cell_type": "markdown",
   "id": "17f1d1ca-52ae-48ca-9c40-174799bd6441",
   "metadata": {},
   "source": [
    "### Some (personal) thoughts on the use of AI\n",
    "\n",
    "Chat-GPT, github CoPilot, or Chat-GPT-like things are very useful tools for coding and doing science.\n",
    "However, I would advise against using these for now as you gain familiarity and learn the basic stuff with coding.\n",
    "\n",
    "Building your skills now would, I would argue, lead you to make __more effective__ use of AI-like thing; for example, you can verify if what Chat-GPT is giving you makes sense. \n",
    "\n",
    "And most importantly, learning how to approach the problem by breaking down what pieces of code you would need to write is built through this initial learning phase.\n",
    "\n",
    "\n",
    "tl;dr: don't use chat gpt for now as you learn the basics, try to google things first and read documentation\n",
    "\n",
    "\n"
   ]
  }
 ],
 "metadata": {
  "kernelspec": {
   "display_name": "Python 3",
   "language": "python",
   "name": "python3"
  },
  "language_info": {
   "codemirror_mode": {
    "name": "ipython",
    "version": 3
   },
   "file_extension": ".py",
   "mimetype": "text/x-python",
   "name": "python",
   "nbconvert_exporter": "python",
   "pygments_lexer": "ipython3",
   "version": "3.11.4"
  }
 },
 "nbformat": 4,
 "nbformat_minor": 5
}
