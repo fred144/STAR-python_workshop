{
 "cells": [
  {
   "cell_type": "markdown",
   "id": "802cead6-a356-492f-a56a-68cb879243c3",
   "metadata": {},
   "source": [
    "# getting started with python tutorial\n",
    "\n",
    "- one unique thing about notebooks is there are two types of cells:\n",
    "    1.  markdown \"cells\" like this one (used for writing extensive explanations)\n",
    "    2.  and coding cells like below\n",
    "\n",
    "to get started editing markdown cells, complete below by double clicking on this cell!\n",
    "\n",
    "note, a cell is selected if it has a blue outline around it.\n",
    "\n",
    "\n",
    "Name: \n",
    "\n",
    "Date: \n",
    "\n",
    "\n",
    "\n",
    "\n",
    "\n"
   ]
  },
  {
   "cell_type": "code",
   "execution_count": null,
   "id": "8808f693-dec9-46db-b3de-1b9a98c021d2",
   "metadata": {
    "collapsed": true,
    "jupyter": {
     "outputs_hidden": true
    }
   },
   "outputs": [],
   "source": [
    "# you can also write comments here in a code cell\n",
    "# but comments here require you to write \"#\" before it\n",
    "# the computer skips over this line and doesn't execute the code"
   ]
  },
  {
   "cell_type": "markdown",
   "id": "99f10526-db72-4ea4-89a8-f10ce152c099",
   "metadata": {},
   "source": [
    "### adding cells, deleting cells, and undoing (un)intended changes\n",
    "\n"
   ]
  },
  {
   "cell_type": "markdown",
   "id": "59287755-d356-42aa-985a-b932f0ef5365",
   "metadata": {},
   "source": [
    "- to undo changes in a cell, go to that cell and press `ctrl+z`\n",
    "- to add or delete cells, there are bottom on the right hand side of these cells\n",
    "- if you make a mistake deleting or adding cells, go to the top navigtaion bar `Edit > Undo Cell Operation`"
   ]
  },
  {
   "cell_type": "markdown",
   "id": "1d653748-83f8-47bd-9787-5d85d9816433",
   "metadata": {},
   "source": [
    "## starting to code\n",
    "\n",
    "- to run a cell, do `ctrl+enter`\n",
    "\n"
   ]
  },
  {
   "cell_type": "markdown",
   "id": "c3585a4e-bef4-467f-895e-6730cb1dee42",
   "metadata": {},
   "source": [
    "### python as a calculator\n",
    "\n",
    "- multiplication `*`\n",
    "- addition `+`\n",
    "- subtraction `-`\n",
    "- power `**`"
   ]
  },
  {
   "cell_type": "code",
   "execution_count": 11,
   "id": "7ff1b3b5-0b64-4837-a207-878c7c74f09f",
   "metadata": {},
   "outputs": [
    {
     "data": {
      "text/plain": [
       "2000"
      ]
     },
     "execution_count": 11,
     "metadata": {},
     "output_type": "execute_result"
    }
   ],
   "source": [
    "(1 + 1) * 10 * 10**2"
   ]
  },
  {
   "cell_type": "markdown",
   "id": "c8c0c5fd-217c-474b-b9f4-f7f60987e8e3",
   "metadata": {},
   "source": [
    "you can store calculations (or numbers, or anything) by assigning the calculation to a variable,\n",
    "\n",
    "- you can rename that variable anything, so i would advise naming things for what they are\n",
    "- within reasonable length, of course\n",
    "- variables works across different cells\n",
    "- variables, if using the same word can get over-written depending on which cells you ran most recently"
   ]
  },
  {
   "cell_type": "code",
   "execution_count": 12,
   "id": "56d539c5-a1db-4e40-a610-3ddd0f2a5c40",
   "metadata": {},
   "outputs": [],
   "source": [
    "length = 24.5\n",
    "width = 32 \n",
    "area = length * width"
   ]
  },
  {
   "cell_type": "markdown",
   "id": "e7a374a5-95fe-4bca-ac38-22120fcad013",
   "metadata": {},
   "source": [
    "so above is an example of variable assignment\n",
    "- we just said that the variable `length` takes the value of 24.5\n",
    "- and  same with the word `width`\n",
    "- we can use these to calculate the `area`\n",
    "\n",
    "we can also verify the answer by printing the variable below"
   ]
  },
  {
   "cell_type": "code",
   "execution_count": 13,
   "id": "595af284-1129-4a1f-9ed2-2e3a3748b391",
   "metadata": {},
   "outputs": [
    {
     "name": "stdout",
     "output_type": "stream",
     "text": [
      "784.0\n"
     ]
    }
   ],
   "source": [
    "print(area)"
   ]
  },
  {
   "cell_type": "markdown",
   "id": "ea65cf93-8698-4f6b-852c-d1d69e1fcd8e",
   "metadata": {},
   "source": [
    "### being organized with code\n",
    "\n",
    "- we can make coding an easier time for us by documenting our code well\n",
    "- one way to do so would be to use comments\n",
    "\n",
    "modifying our code above"
   ]
  },
  {
   "cell_type": "code",
   "execution_count": 14,
   "id": "b2655763-7095-46bb-b1c8-1ea7a00408a9",
   "metadata": {},
   "outputs": [
    {
     "name": "stdout",
     "output_type": "stream",
     "text": [
      "the area of the object is 784.0 square inches.\n"
     ]
    }
   ],
   "source": [
    "length = 24.5  # inches\n",
    "width = 32     # inches\n",
    "area = length * width \n",
    "print(\"the area of the object is\", area, \"square inches.\")"
   ]
  },
  {
   "cell_type": "markdown",
   "id": "4405b1d0-7c3b-4dc1-b55d-a1f1d2f2a1a6",
   "metadata": {},
   "source": [
    "above, we just introduced the `string` data type, which is a string of letters\n",
    "\n",
    "you can also assign strings to variables, by surrounding anything with qoutes `\"this is a string\"`\n",
    "\n",
    "note, you can't do arithmetic with string -- it is intended to store phrases\n",
    "\n",
    "#### **[excercise]** let's do some excercises below"
   ]
  },
  {
   "cell_type": "code",
   "execution_count": 15,
   "id": "78a175c7-e218-4f5c-ac61-8fd1d0059799",
   "metadata": {},
   "outputs": [],
   "source": [
    "# calculate the area and circumference of a circle with a radius of 1.44 cm \n",
    "[code here]\n",
    "\n",
    "# print your results\n",
    "[code here]"
   ]
  },
  {
   "cell_type": "markdown",
   "id": "c566ddc6-fc5b-4d1b-9543-6cba322a0394",
   "metadata": {},
   "source": [
    "\n",
    "### lists\n",
    " we will introduce `lists`"
   ]
  },
  {
   "cell_type": "code",
   "execution_count": 17,
   "id": "5cbf1449-f5cd-44cc-b272-9ad535691f97",
   "metadata": {},
   "outputs": [],
   "source": [
    "# introduce a list here\n",
    "\n",
    "\n",
    "[code here]\n"
   ]
  },
  {
   "cell_type": "markdown",
   "id": "794ebfad-3782-443c-87cb-18d7bffe4b7f",
   "metadata": {},
   "source": [
    "as you can see a list can contain both numbers and strings\n",
    "\n",
    "list is an `object` just a *fancy* variable that you can do additional things with"
   ]
  },
  {
   "cell_type": "code",
   "execution_count": 34,
   "id": "8a0aa43e-223c-4b0b-b8ee-ebee7e6f8119",
   "metadata": {},
   "outputs": [],
   "source": [
    "# find its length\n",
    "[code here]\n",
    "\n",
    "# add values to it by \"append\"\n",
    "\n",
    "[code here]\n",
    "# reverse it \n",
    "\n",
    "[code here]\n"
   ]
  },
  {
   "cell_type": "markdown",
   "id": "f0242beb-a1a7-4c04-8a61-fe8704ecf7ae",
   "metadata": {},
   "source": [
    "### indexing lists\n",
    "\n",
    "suppose you just want to get certain `elements` in a list, to do so you have to know its `index`\n"
   ]
  },
  {
   "cell_type": "code",
   "execution_count": null,
   "id": "7dead341-4933-4792-8123-43f5df754234",
   "metadata": {},
   "outputs": [],
   "source": [
    "# you can do it by writing the list, and writing [n] after it\n",
    "\n",
    "[code here]"
   ]
  },
  {
   "cell_type": "code",
   "execution_count": null,
   "id": "470ff596-b314-42a0-a3e9-efb36d444cce",
   "metadata": {},
   "outputs": [],
   "source": [
    "# n starts from 0, so the first element of your list has \"index 0\"\n",
    "\n",
    "[code here]\n"
   ]
  },
  {
   "cell_type": "code",
   "execution_count": null,
   "id": "a7b4cfae-e5b0-4184-8852-bdcea20e7142",
   "metadata": {},
   "outputs": [],
   "source": [
    "# suppose you want to access parts of a list [start index: end index: step size]\n",
    "\n",
    "[code here]\n"
   ]
  },
  {
   "cell_type": "markdown",
   "id": "1ec58a0f-a0e5-490c-991d-a079adefff05",
   "metadata": {},
   "source": [
    "## starting to work with loops\n",
    "\n",
    "here we'll introduce the idea of loops, which can be useful if, per say we want to compute the area of many circles\n",
    "\n"
   ]
  },
  {
   "cell_type": "code",
   "execution_count": 19,
   "id": "0fc21d04-d07c-4b39-a415-9f7675a5dc87",
   "metadata": {},
   "outputs": [
    {
     "name": "stdout",
     "output_type": "stream",
     "text": [
      "the value of i is now 0\n",
      "the value of i is now 1\n",
      "the value of i is now 2\n",
      "the value of i is now 3\n",
      "the value of i is now 4\n"
     ]
    }
   ],
   "source": [
    "# here is a basic loop\n",
    "\n",
    "num_loops = 5\n",
    "\n",
    "for i in range(num_loops): \n",
    "    # in each iteration of the loop, i will change\n",
    "    print(\"the value of i is now\", i)\n"
   ]
  },
  {
   "cell_type": "markdown",
   "id": "366678ef-ec53-4444-b6f1-21f8742ec7eb",
   "metadata": {},
   "source": [
    "so the basic structure of a loop is\n",
    "```\n",
    "loop controll: \n",
    "    what to do in each pass of the loop\n",
    "```\n",
    "note, the indent is very important-- it's one of the key defining characteristic of python: it cares about spaces \n",
    "\n",
    "let's look at how important it is below"
   ]
  },
  {
   "cell_type": "code",
   "execution_count": 20,
   "id": "ed9cd1c2-4c63-4ae0-94cd-0e2a23a80c3c",
   "metadata": {},
   "outputs": [
    {
     "ename": "IndentationError",
     "evalue": "expected an indented block after 'for' statement on line 2 (725832471.py, line 3)",
     "output_type": "error",
     "traceback": [
      "\u001b[0;36m  Cell \u001b[0;32mIn[20], line 3\u001b[0;36m\u001b[0m\n\u001b[0;31m    print(\"the value of i is now\", i)\u001b[0m\n\u001b[0m    ^\u001b[0m\n\u001b[0;31mIndentationError\u001b[0m\u001b[0;31m:\u001b[0m expected an indented block after 'for' statement on line 2\n"
     ]
    }
   ],
   "source": [
    "num_loops = 5\n",
    "for i in range(num_loops): \n",
    "print(\"the value of i is now\", i)\n"
   ]
  },
  {
   "cell_type": "markdown",
   "id": "fd8f978c-aee6-4416-9e0f-b32c0fac2730",
   "metadata": {},
   "source": [
    "#### debugging: __above is what an error looks like in python__\n",
    "\n",
    "- you will encounter a lot of bugs\n",
    "- errors will thankfully give you a clue as to where/what it is -- importance of line numbers\n",
    "- there are many kinds of errors\n",
    "- you can solve them through experience -- making mistakes is an important part of coding\n"
   ]
  },
  {
   "cell_type": "markdown",
   "id": "555e9df2-8208-45a0-86a4-7b831c337ed2",
   "metadata": {},
   "source": [
    "### looping through a list"
   ]
  },
  {
   "cell_type": "code",
   "execution_count": 21,
   "id": "aa06bf94-acd8-4687-a956-b11c742015e0",
   "metadata": {},
   "outputs": [],
   "source": [
    "# we can traverse through a list using a loop \n",
    "\n",
    "# one way, by knowing the length of the list and indexing\n",
    "\n",
    "[code here]\n",
    "\n",
    "# another way, just going over the full length of the list  \n",
    "\n",
    "[code here]\n"
   ]
  },
  {
   "cell_type": "markdown",
   "id": "217f9331-c3a4-44ac-8504-066b6e3463b1",
   "metadata": {},
   "source": [
    "#### **[excercise]** calculate the areas of the circle given the radius\n",
    "\n",
    "compute area by looping over the radii and then appending the result to the `areas` list\n",
    "\n",
    "- then print the list"
   ]
  },
  {
   "cell_type": "code",
   "execution_count": 31,
   "id": "ead541ce-ec69-44ba-abd6-b5c2e5ae32d4",
   "metadata": {},
   "outputs": [],
   "source": [
    "radii = [1,1,2,3,4,5] # cm\n",
    "areas = [] # yes, you can define an empty list like this!\n",
    "\n",
    "# do a for loop to calculate the area for each radius\n",
    "    # areas.append(a), for area a to the list\n"
   ]
  },
  {
   "cell_type": "markdown",
   "id": "255e37c7-fee7-432a-94d7-1c48ec2cf7b1",
   "metadata": {},
   "source": [
    "# packages simplify our lives\n",
    "\n",
    "- these are pre-written code written by the community that can help with calculations\n",
    "- one example is [numpy](https://numpy.org/doc/stable/index.html)\n",
    "\n",
    "the basic structure of using a package is to first import it by the format\n",
    "\n",
    "`import package_name as acronym`\n"
   ]
  },
  {
   "cell_type": "code",
   "execution_count": 25,
   "id": "7420ea18-0a51-4eb2-8610-a7cbdee1d755",
   "metadata": {},
   "outputs": [],
   "source": [
    "import numpy as np # this says that I want to access pre-written code in the numpy package simply by writting np"
   ]
  },
  {
   "cell_type": "markdown",
   "id": "d59cbdf1-6b85-44a4-a528-8ffecc279f99",
   "metadata": {},
   "source": [
    "## numpy arrays\n",
    "\n",
    "are `fancy` lists that we can do math with.\n",
    "\n",
    "to turn any list into a numpy list, just do"
   ]
  },
  {
   "cell_type": "code",
   "execution_count": 28,
   "id": "b0900a96-b784-48e5-8362-48fe84186c9d",
   "metadata": {},
   "outputs": [],
   "source": [
    "radii_numpy_list = np.array(radii) "
   ]
  },
  {
   "cell_type": "code",
   "execution_count": 29,
   "id": "eed6f980-180c-4b9d-a62f-c5b835e32d39",
   "metadata": {},
   "outputs": [
    {
     "name": "stdout",
     "output_type": "stream",
     "text": [
      "[1 2 3 4 5]\n"
     ]
    }
   ],
   "source": [
    "print(radii_numpy_list)"
   ]
  },
  {
   "cell_type": "markdown",
   "id": "5a1883a9-b12e-4f6c-bf3d-e047756e8182",
   "metadata": {},
   "source": [
    "nothing really change-- except now we can do this!"
   ]
  },
  {
   "cell_type": "code",
   "execution_count": 30,
   "id": "1013d6a1-ae1f-45e4-8668-ca9849616102",
   "metadata": {},
   "outputs": [
    {
     "name": "stdout",
     "output_type": "stream",
     "text": [
      "[ 6.28 12.56 18.84 25.12 31.4 ]\n"
     ]
    }
   ],
   "source": [
    "np_areas = 2 * 3.14 * radii_numpy_list\n",
    "print(np_areas)"
   ]
  },
  {
   "cell_type": "markdown",
   "id": "ff8d97f6-756b-4f24-8ccc-61d29e05b5b2",
   "metadata": {},
   "source": [
    "__we were able to do what we did with the loop in one line 😯__\n",
    "\n",
    "- numpy arrays (also called vectors) can be multi-dimensional (2D: matrix if you've covered this in algebra)\n",
    "- you can do lots of things with numpy arrays"
   ]
  },
  {
   "cell_type": "code",
   "execution_count": 32,
   "id": "7511ac90-64b1-4d57-a6c0-685f689603a5",
   "metadata": {},
   "outputs": [],
   "source": [
    "# like add all of them up\n",
    "\n",
    "\n"
   ]
  },
  {
   "cell_type": "code",
   "execution_count": null,
   "id": "eacb4cd7-631f-45bd-9c00-d99a34a82672",
   "metadata": {},
   "outputs": [],
   "source": [
    "# find the maximum value\n",
    "\n",
    "\n"
   ]
  },
  {
   "cell_type": "code",
   "execution_count": null,
   "id": "88c7b768-bc99-4144-a778-b59bf414bede",
   "metadata": {},
   "outputs": [],
   "source": [
    "# yes, the minimum too\n",
    "\n",
    "\n"
   ]
  },
  {
   "cell_type": "code",
   "execution_count": null,
   "id": "a531e6e0-148f-4053-b833-01f9a0cee8a2",
   "metadata": {},
   "outputs": [],
   "source": [
    "# find just the unique entries\n",
    "\n",
    "\n",
    "# and all the list stuff like find the length\n",
    "\n"
   ]
  },
  {
   "cell_type": "code",
   "execution_count": null,
   "id": "2c7f638b-2ba7-410d-89d0-4ca6f42536c8",
   "metadata": {},
   "outputs": [],
   "source": [
    "# you can also loop through\n",
    "\n",
    "\n"
   ]
  },
  {
   "cell_type": "markdown",
   "id": "608f6198-6822-46ba-806f-1abe98af283f",
   "metadata": {},
   "source": [
    "and many, many more... thankfully it is well documented so google away!"
   ]
  },
  {
   "cell_type": "code",
   "execution_count": null,
   "id": "29154656-7966-4b2d-9a28-50a18223eacd",
   "metadata": {},
   "outputs": [],
   "source": []
  }
 ],
 "metadata": {
  "kernelspec": {
   "display_name": "Python 3 (ipykernel)",
   "language": "python",
   "name": "python3"
  },
  "language_info": {
   "codemirror_mode": {
    "name": "ipython",
    "version": 3
   },
   "file_extension": ".py",
   "mimetype": "text/x-python",
   "name": "python",
   "nbconvert_exporter": "python",
   "pygments_lexer": "ipython3",
   "version": "3.11.4"
  }
 },
 "nbformat": 4,
 "nbformat_minor": 5
}
